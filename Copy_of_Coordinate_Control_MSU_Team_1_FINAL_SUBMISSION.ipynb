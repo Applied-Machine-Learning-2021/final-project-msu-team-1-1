{
  "nbformat": 4,
  "nbformat_minor": 0,
  "metadata": {
    "colab": {
      "name": "Copy of Coordinate_Control_MSU_Team_1_FINAL_SUBMISSION.ipynb",
      "provenance": [],
      "collapsed_sections": [
        "P-Rddg6_byp4"
      ],
      "toc_visible": true
    },
    "kernelspec": {
      "name": "python3",
      "display_name": "Python 3"
    },
    "language_info": {
      "name": "python"
    }
  },
  "cells": [
    {
      "cell_type": "markdown",
      "metadata": {
        "id": "l3qJSpEX9tMn"
      },
      "source": [
        "*Include all necessary imports*"
      ]
    },
    {
      "cell_type": "code",
      "metadata": {
        "id": "SUdgFJ87hC-n"
      },
      "source": [
        "import numpy as np\n",
        "import pandas as pd\n",
        "from pathlib import Path\n",
        "from tqdm import tqdm\n",
        "import matplotlib.pyplot as plt\n",
        "from sklearn import preprocessing\n",
        "from sklearn.linear_model import LinearRegression\n",
        "from sklearn.model_selection import train_test_split\n",
        "from sklearn.metrics import mean_squared_error\n",
        "import seaborn as sns\n",
        "from math import radians, cos, sin, asin, sqrt"
      ],
      "execution_count": null,
      "outputs": []
    },
    {
      "cell_type": "markdown",
      "metadata": {
        "id": "1fNArGgi91Fq"
      },
      "source": [
        "*Unzip all uploaded files so we can access them*"
      ]
    },
    {
      "cell_type": "code",
      "metadata": {
        "colab": {
          "base_uri": "https://localhost:8080/"
        },
        "id": "MKF_f5Da1U0y",
        "outputId": "e60fb626-2dca-4d6a-8cc7-bdb96bd35c29"
      },
      "source": [
        "!unzip baseline_locations_test.csv.zip\n",
        "!unzip baseline_locations_train.csv.zip\n",
        "!unzip sample_submission.csv.zip"
      ],
      "execution_count": null,
      "outputs": [
        {
          "output_type": "stream",
          "text": [
            "Archive:  baseline_locations_test.csv.zip\n",
            "  inflating: baseline_locations_test.csv  \n",
            "Archive:  baseline_locations_train.csv.zip\n",
            "  inflating: baseline_locations_train.csv  \n",
            "unzip:  cannot find or open sample_submission.csv.zip, sample_submission.csv.zip.zip or sample_submission.csv.zip.ZIP.\n"
          ],
          "name": "stdout"
        }
      ]
    },
    {
      "cell_type": "code",
      "metadata": {
        "colab": {
          "base_uri": "https://localhost:8080/"
        },
        "id": "3dh6FU0EJo1Q",
        "outputId": "ddeeed22-9005-43ca-d78f-722d90ef3b39"
      },
      "source": [
        "!unzip sample3.zip"
      ],
      "execution_count": null,
      "outputs": [
        {
          "output_type": "stream",
          "text": [
            "Archive:  sample3.zip\n",
            "   creating: sample3/Mi8/\n",
            "  inflating: sample3/Mi8/ground_truth.csv  \n",
            "  inflating: sample3/Mi8/Mi8_derived.csv  \n",
            "  inflating: sample3/Mi8/Mi8_GnssLog.txt  \n",
            "   creating: sample3/Mi8/supplemental/\n",
            "  inflating: sample3/Mi8/supplemental/Mi8_GnssLog.20o  \n",
            "  inflating: sample3/Mi8/supplemental/SPAN_Mi8_10Hz.nmea  \n",
            "   creating: sample3/Pixel4/\n",
            "  inflating: sample3/Pixel4/ground_truth.csv  \n",
            "  inflating: sample3/Pixel4/Pixel4_derived.csv  \n",
            "  inflating: sample3/Pixel4/Pixel4_GnssLog.txt  \n",
            "   creating: sample3/Pixel4/supplemental/\n",
            "  inflating: sample3/Pixel4/supplemental/Pixel4_GnssLog.20o  \n",
            "  inflating: sample3/Pixel4/supplemental/SPAN_Pixel4_10Hz.nmea  \n",
            "   creating: sample3/Pixel4Modded/\n",
            "  inflating: sample3/Pixel4Modded/ground_truth.csv  \n",
            "  inflating: sample3/Pixel4Modded/Pixel4Modded_derived.csv  \n",
            "  inflating: sample3/Pixel4Modded/Pixel4Modded_GnssLog.txt  \n",
            "   creating: sample3/Pixel4Modded/supplemental/\n",
            "  inflating: sample3/Pixel4Modded/supplemental/Pixel4Modded_GnssLog.21o  \n",
            "  inflating: sample3/Pixel4Modded/supplemental/SPAN_Pixel4Modded_10Hz.nmea  \n",
            "   creating: sample3/Pixel4XL/\n",
            "  inflating: sample3/Pixel4XL/ground_truth.csv  \n",
            "  inflating: sample3/Pixel4XL/Pixel4XL_derived.csv  \n",
            "  inflating: sample3/Pixel4XL/Pixel4XL_GnssLog.txt  \n",
            "   creating: sample3/Pixel4XL/supplemental/\n",
            "  inflating: sample3/Pixel4XL/supplemental/Pixel4XL_GnssLog.20o  \n",
            "  inflating: sample3/Pixel4XL/supplemental/SPAN_Pixel4XL_10Hz.nmea  \n",
            "   creating: sample3/Pixel4XLModded/\n",
            "  inflating: sample3/Pixel4XLModded/ground_truth.csv  \n",
            "  inflating: sample3/Pixel4XLModded/Pixel4XLModded_derived.csv  \n",
            "  inflating: sample3/Pixel4XLModded/Pixel4XLModded_GnssLog.txt  \n",
            "   creating: sample3/Pixel4XLModded/supplemental/\n",
            "  inflating: sample3/Pixel4XLModded/supplemental/Pixel4XLModded_GnssLog.20o  \n",
            "  inflating: sample3/Pixel4XLModded/supplemental/SPAN_Pixel4XLModded_10Hz.nmea  \n",
            "   creating: sample3/Pixel5/\n",
            "  inflating: sample3/Pixel5/Pixel5_derived.csv  \n",
            "  inflating: sample3/Pixel5/Pixel5_GnssLog.txt  \n",
            "   creating: sample3/Pixel5/supplemental/\n",
            "  inflating: sample3/Pixel5/supplemental/Pixel5_GnssLog.21o  \n",
            "   creating: sample3/SamsungS20Ultra/\n",
            "  inflating: sample3/SamsungS20Ultra/SamsungS20Ultra_derived.csv  \n",
            "  inflating: sample3/SamsungS20Ultra/SamsungS20Ultra_GnssLog.txt  \n",
            "   creating: sample3/SamsungS20Ultra/supplemental/\n",
            "  inflating: sample3/SamsungS20Ultra/supplemental/SamsungS20Ultra_GnssLog.21o  \n"
          ],
          "name": "stdout"
        }
      ]
    },
    {
      "cell_type": "markdown",
      "metadata": {
        "id": "gFfyxTIhM3no"
      },
      "source": [
        "*Load the csv files into the respective dataframes*"
      ]
    },
    {
      "cell_type": "code",
      "metadata": {
        "colab": {
          "base_uri": "https://localhost:8080/",
          "height": 420
        },
        "id": "ESCI62YG9KH_",
        "outputId": "f13dff3c-0275-49da-a20a-c02707bcf601"
      },
      "source": [
        "trainfile = pd.read_csv(\"baseline_locations_train.csv\")\n",
        "trainfile"
      ],
      "execution_count": null,
      "outputs": [
        {
          "output_type": "execute_result",
          "data": {
            "text/html": [
              "<div>\n",
              "<style scoped>\n",
              "    .dataframe tbody tr th:only-of-type {\n",
              "        vertical-align: middle;\n",
              "    }\n",
              "\n",
              "    .dataframe tbody tr th {\n",
              "        vertical-align: top;\n",
              "    }\n",
              "\n",
              "    .dataframe thead th {\n",
              "        text-align: right;\n",
              "    }\n",
              "</style>\n",
              "<table border=\"1\" class=\"dataframe\">\n",
              "  <thead>\n",
              "    <tr style=\"text-align: right;\">\n",
              "      <th></th>\n",
              "      <th>collectionName</th>\n",
              "      <th>phoneName</th>\n",
              "      <th>millisSinceGpsEpoch</th>\n",
              "      <th>latDeg</th>\n",
              "      <th>lngDeg</th>\n",
              "      <th>heightAboveWgs84EllipsoidM</th>\n",
              "      <th>phone</th>\n",
              "    </tr>\n",
              "  </thead>\n",
              "  <tbody>\n",
              "    <tr>\n",
              "      <th>0</th>\n",
              "      <td>2020-05-14-US-MTV-1</td>\n",
              "      <td>Pixel4</td>\n",
              "      <td>1273529463442</td>\n",
              "      <td>37.423575</td>\n",
              "      <td>-122.094091</td>\n",
              "      <td>-34.06</td>\n",
              "      <td>2020-05-14-US-MTV-1_Pixel4</td>\n",
              "    </tr>\n",
              "    <tr>\n",
              "      <th>1</th>\n",
              "      <td>2020-05-14-US-MTV-1</td>\n",
              "      <td>Pixel4</td>\n",
              "      <td>1273529464442</td>\n",
              "      <td>37.423578</td>\n",
              "      <td>-122.094101</td>\n",
              "      <td>-33.29</td>\n",
              "      <td>2020-05-14-US-MTV-1_Pixel4</td>\n",
              "    </tr>\n",
              "    <tr>\n",
              "      <th>2</th>\n",
              "      <td>2020-05-14-US-MTV-1</td>\n",
              "      <td>Pixel4</td>\n",
              "      <td>1273529465442</td>\n",
              "      <td>37.423573</td>\n",
              "      <td>-122.094111</td>\n",
              "      <td>-30.99</td>\n",
              "      <td>2020-05-14-US-MTV-1_Pixel4</td>\n",
              "    </tr>\n",
              "    <tr>\n",
              "      <th>3</th>\n",
              "      <td>2020-05-14-US-MTV-1</td>\n",
              "      <td>Pixel4</td>\n",
              "      <td>1273529466442</td>\n",
              "      <td>37.423583</td>\n",
              "      <td>-122.094121</td>\n",
              "      <td>-32.83</td>\n",
              "      <td>2020-05-14-US-MTV-1_Pixel4</td>\n",
              "    </tr>\n",
              "    <tr>\n",
              "      <th>4</th>\n",
              "      <td>2020-05-14-US-MTV-1</td>\n",
              "      <td>Pixel4</td>\n",
              "      <td>1273529467442</td>\n",
              "      <td>37.423579</td>\n",
              "      <td>-122.094114</td>\n",
              "      <td>-34.49</td>\n",
              "      <td>2020-05-14-US-MTV-1_Pixel4</td>\n",
              "    </tr>\n",
              "    <tr>\n",
              "      <th>...</th>\n",
              "      <td>...</td>\n",
              "      <td>...</td>\n",
              "      <td>...</td>\n",
              "      <td>...</td>\n",
              "      <td>...</td>\n",
              "      <td>...</td>\n",
              "      <td>...</td>\n",
              "    </tr>\n",
              "    <tr>\n",
              "      <th>131337</th>\n",
              "      <td>2021-04-29-US-SJC-2</td>\n",
              "      <td>SamsungS20Ultra</td>\n",
              "      <td>1303760315000</td>\n",
              "      <td>37.334460</td>\n",
              "      <td>-121.899600</td>\n",
              "      <td>-8.09</td>\n",
              "      <td>2021-04-29-US-SJC-2_SamsungS20Ultra</td>\n",
              "    </tr>\n",
              "    <tr>\n",
              "      <th>131338</th>\n",
              "      <td>2021-04-29-US-SJC-2</td>\n",
              "      <td>SamsungS20Ultra</td>\n",
              "      <td>1303760316000</td>\n",
              "      <td>37.334472</td>\n",
              "      <td>-121.899583</td>\n",
              "      <td>-7.59</td>\n",
              "      <td>2021-04-29-US-SJC-2_SamsungS20Ultra</td>\n",
              "    </tr>\n",
              "    <tr>\n",
              "      <th>131339</th>\n",
              "      <td>2021-04-29-US-SJC-2</td>\n",
              "      <td>SamsungS20Ultra</td>\n",
              "      <td>1303760317000</td>\n",
              "      <td>37.334491</td>\n",
              "      <td>-121.899597</td>\n",
              "      <td>-8.35</td>\n",
              "      <td>2021-04-29-US-SJC-2_SamsungS20Ultra</td>\n",
              "    </tr>\n",
              "    <tr>\n",
              "      <th>131340</th>\n",
              "      <td>2021-04-29-US-SJC-2</td>\n",
              "      <td>SamsungS20Ultra</td>\n",
              "      <td>1303760318000</td>\n",
              "      <td>37.334495</td>\n",
              "      <td>-121.899583</td>\n",
              "      <td>-8.73</td>\n",
              "      <td>2021-04-29-US-SJC-2_SamsungS20Ultra</td>\n",
              "    </tr>\n",
              "    <tr>\n",
              "      <th>131341</th>\n",
              "      <td>2021-04-29-US-SJC-2</td>\n",
              "      <td>SamsungS20Ultra</td>\n",
              "      <td>1303760319000</td>\n",
              "      <td>37.334485</td>\n",
              "      <td>-121.899570</td>\n",
              "      <td>-7.64</td>\n",
              "      <td>2021-04-29-US-SJC-2_SamsungS20Ultra</td>\n",
              "    </tr>\n",
              "  </tbody>\n",
              "</table>\n",
              "<p>131342 rows × 7 columns</p>\n",
              "</div>"
            ],
            "text/plain": [
              "             collectionName  ...                                phone\n",
              "0       2020-05-14-US-MTV-1  ...           2020-05-14-US-MTV-1_Pixel4\n",
              "1       2020-05-14-US-MTV-1  ...           2020-05-14-US-MTV-1_Pixel4\n",
              "2       2020-05-14-US-MTV-1  ...           2020-05-14-US-MTV-1_Pixel4\n",
              "3       2020-05-14-US-MTV-1  ...           2020-05-14-US-MTV-1_Pixel4\n",
              "4       2020-05-14-US-MTV-1  ...           2020-05-14-US-MTV-1_Pixel4\n",
              "...                     ...  ...                                  ...\n",
              "131337  2021-04-29-US-SJC-2  ...  2021-04-29-US-SJC-2_SamsungS20Ultra\n",
              "131338  2021-04-29-US-SJC-2  ...  2021-04-29-US-SJC-2_SamsungS20Ultra\n",
              "131339  2021-04-29-US-SJC-2  ...  2021-04-29-US-SJC-2_SamsungS20Ultra\n",
              "131340  2021-04-29-US-SJC-2  ...  2021-04-29-US-SJC-2_SamsungS20Ultra\n",
              "131341  2021-04-29-US-SJC-2  ...  2021-04-29-US-SJC-2_SamsungS20Ultra\n",
              "\n",
              "[131342 rows x 7 columns]"
            ]
          },
          "metadata": {
            "tags": []
          },
          "execution_count": 7
        }
      ]
    },
    {
      "cell_type": "code",
      "metadata": {
        "colab": {
          "base_uri": "https://localhost:8080/",
          "height": 420
        },
        "id": "XdvJv3in9KeD",
        "outputId": "19e058b9-9557-4e29-d435-9bc8dd3b33f1"
      },
      "source": [
        "testfile = pd.read_csv(\"baseline_locations_test.csv\")\n",
        "testfile"
      ],
      "execution_count": null,
      "outputs": [
        {
          "output_type": "execute_result",
          "data": {
            "text/html": [
              "<div>\n",
              "<style scoped>\n",
              "    .dataframe tbody tr th:only-of-type {\n",
              "        vertical-align: middle;\n",
              "    }\n",
              "\n",
              "    .dataframe tbody tr th {\n",
              "        vertical-align: top;\n",
              "    }\n",
              "\n",
              "    .dataframe thead th {\n",
              "        text-align: right;\n",
              "    }\n",
              "</style>\n",
              "<table border=\"1\" class=\"dataframe\">\n",
              "  <thead>\n",
              "    <tr style=\"text-align: right;\">\n",
              "      <th></th>\n",
              "      <th>collectionName</th>\n",
              "      <th>phoneName</th>\n",
              "      <th>millisSinceGpsEpoch</th>\n",
              "      <th>latDeg</th>\n",
              "      <th>lngDeg</th>\n",
              "      <th>heightAboveWgs84EllipsoidM</th>\n",
              "      <th>phone</th>\n",
              "    </tr>\n",
              "  </thead>\n",
              "  <tbody>\n",
              "    <tr>\n",
              "      <th>0</th>\n",
              "      <td>2020-05-15-US-MTV-1</td>\n",
              "      <td>Pixel4</td>\n",
              "      <td>1273608785432</td>\n",
              "      <td>37.416628</td>\n",
              "      <td>-122.082053</td>\n",
              "      <td>-30.69</td>\n",
              "      <td>2020-05-15-US-MTV-1_Pixel4</td>\n",
              "    </tr>\n",
              "    <tr>\n",
              "      <th>1</th>\n",
              "      <td>2020-05-15-US-MTV-1</td>\n",
              "      <td>Pixel4</td>\n",
              "      <td>1273608786432</td>\n",
              "      <td>37.416646</td>\n",
              "      <td>-122.082040</td>\n",
              "      <td>-31.76</td>\n",
              "      <td>2020-05-15-US-MTV-1_Pixel4</td>\n",
              "    </tr>\n",
              "    <tr>\n",
              "      <th>2</th>\n",
              "      <td>2020-05-15-US-MTV-1</td>\n",
              "      <td>Pixel4</td>\n",
              "      <td>1273608787432</td>\n",
              "      <td>37.416653</td>\n",
              "      <td>-122.082039</td>\n",
              "      <td>-31.65</td>\n",
              "      <td>2020-05-15-US-MTV-1_Pixel4</td>\n",
              "    </tr>\n",
              "    <tr>\n",
              "      <th>3</th>\n",
              "      <td>2020-05-15-US-MTV-1</td>\n",
              "      <td>Pixel4</td>\n",
              "      <td>1273608788432</td>\n",
              "      <td>37.416607</td>\n",
              "      <td>-122.082063</td>\n",
              "      <td>-31.52</td>\n",
              "      <td>2020-05-15-US-MTV-1_Pixel4</td>\n",
              "    </tr>\n",
              "    <tr>\n",
              "      <th>4</th>\n",
              "      <td>2020-05-15-US-MTV-1</td>\n",
              "      <td>Pixel4</td>\n",
              "      <td>1273608789432</td>\n",
              "      <td>37.416609</td>\n",
              "      <td>-122.082073</td>\n",
              "      <td>-28.95</td>\n",
              "      <td>2020-05-15-US-MTV-1_Pixel4</td>\n",
              "    </tr>\n",
              "    <tr>\n",
              "      <th>...</th>\n",
              "      <td>...</td>\n",
              "      <td>...</td>\n",
              "      <td>...</td>\n",
              "      <td>...</td>\n",
              "      <td>...</td>\n",
              "      <td>...</td>\n",
              "      <td>...</td>\n",
              "    </tr>\n",
              "    <tr>\n",
              "      <th>91481</th>\n",
              "      <td>2021-04-29-US-SJC-3</td>\n",
              "      <td>SamsungS20Ultra</td>\n",
              "      <td>1303763185000</td>\n",
              "      <td>37.334539</td>\n",
              "      <td>-121.899383</td>\n",
              "      <td>-8.39</td>\n",
              "      <td>2021-04-29-US-SJC-3_SamsungS20Ultra</td>\n",
              "    </tr>\n",
              "    <tr>\n",
              "      <th>91482</th>\n",
              "      <td>2021-04-29-US-SJC-3</td>\n",
              "      <td>SamsungS20Ultra</td>\n",
              "      <td>1303763186000</td>\n",
              "      <td>37.334545</td>\n",
              "      <td>-121.899380</td>\n",
              "      <td>-7.36</td>\n",
              "      <td>2021-04-29-US-SJC-3_SamsungS20Ultra</td>\n",
              "    </tr>\n",
              "    <tr>\n",
              "      <th>91483</th>\n",
              "      <td>2021-04-29-US-SJC-3</td>\n",
              "      <td>SamsungS20Ultra</td>\n",
              "      <td>1303763187000</td>\n",
              "      <td>37.334551</td>\n",
              "      <td>-121.899371</td>\n",
              "      <td>-4.08</td>\n",
              "      <td>2021-04-29-US-SJC-3_SamsungS20Ultra</td>\n",
              "    </tr>\n",
              "    <tr>\n",
              "      <th>91484</th>\n",
              "      <td>2021-04-29-US-SJC-3</td>\n",
              "      <td>SamsungS20Ultra</td>\n",
              "      <td>1303763188000</td>\n",
              "      <td>37.334540</td>\n",
              "      <td>-121.899371</td>\n",
              "      <td>-5.70</td>\n",
              "      <td>2021-04-29-US-SJC-3_SamsungS20Ultra</td>\n",
              "    </tr>\n",
              "    <tr>\n",
              "      <th>91485</th>\n",
              "      <td>2021-04-29-US-SJC-3</td>\n",
              "      <td>SamsungS20Ultra</td>\n",
              "      <td>1303763189000</td>\n",
              "      <td>37.334562</td>\n",
              "      <td>-121.899354</td>\n",
              "      <td>-0.90</td>\n",
              "      <td>2021-04-29-US-SJC-3_SamsungS20Ultra</td>\n",
              "    </tr>\n",
              "  </tbody>\n",
              "</table>\n",
              "<p>91486 rows × 7 columns</p>\n",
              "</div>"
            ],
            "text/plain": [
              "            collectionName  ...                                phone\n",
              "0      2020-05-15-US-MTV-1  ...           2020-05-15-US-MTV-1_Pixel4\n",
              "1      2020-05-15-US-MTV-1  ...           2020-05-15-US-MTV-1_Pixel4\n",
              "2      2020-05-15-US-MTV-1  ...           2020-05-15-US-MTV-1_Pixel4\n",
              "3      2020-05-15-US-MTV-1  ...           2020-05-15-US-MTV-1_Pixel4\n",
              "4      2020-05-15-US-MTV-1  ...           2020-05-15-US-MTV-1_Pixel4\n",
              "...                    ...  ...                                  ...\n",
              "91481  2021-04-29-US-SJC-3  ...  2021-04-29-US-SJC-3_SamsungS20Ultra\n",
              "91482  2021-04-29-US-SJC-3  ...  2021-04-29-US-SJC-3_SamsungS20Ultra\n",
              "91483  2021-04-29-US-SJC-3  ...  2021-04-29-US-SJC-3_SamsungS20Ultra\n",
              "91484  2021-04-29-US-SJC-3  ...  2021-04-29-US-SJC-3_SamsungS20Ultra\n",
              "91485  2021-04-29-US-SJC-3  ...  2021-04-29-US-SJC-3_SamsungS20Ultra\n",
              "\n",
              "[91486 rows x 7 columns]"
            ]
          },
          "metadata": {
            "tags": []
          },
          "execution_count": 16
        }
      ]
    },
    {
      "cell_type": "code",
      "metadata": {
        "colab": {
          "base_uri": "https://localhost:8080/",
          "height": 420
        },
        "id": "R1TnNDiD9Kzt",
        "outputId": "a52c89b8-2995-4ec3-8b09-49a379cc8422"
      },
      "source": [
        "submission = pd.read_csv(\"sample_submission.csv\")\n",
        "submission"
      ],
      "execution_count": null,
      "outputs": [
        {
          "output_type": "execute_result",
          "data": {
            "text/html": [
              "<div>\n",
              "<style scoped>\n",
              "    .dataframe tbody tr th:only-of-type {\n",
              "        vertical-align: middle;\n",
              "    }\n",
              "\n",
              "    .dataframe tbody tr th {\n",
              "        vertical-align: top;\n",
              "    }\n",
              "\n",
              "    .dataframe thead th {\n",
              "        text-align: right;\n",
              "    }\n",
              "</style>\n",
              "<table border=\"1\" class=\"dataframe\">\n",
              "  <thead>\n",
              "    <tr style=\"text-align: right;\">\n",
              "      <th></th>\n",
              "      <th>phone</th>\n",
              "      <th>millisSinceGpsEpoch</th>\n",
              "      <th>latDeg</th>\n",
              "      <th>lngDeg</th>\n",
              "    </tr>\n",
              "  </thead>\n",
              "  <tbody>\n",
              "    <tr>\n",
              "      <th>0</th>\n",
              "      <td>2020-05-15-US-MTV-1_Pixel4</td>\n",
              "      <td>1273608785432</td>\n",
              "      <td>37.904611</td>\n",
              "      <td>-86.481078</td>\n",
              "    </tr>\n",
              "    <tr>\n",
              "      <th>1</th>\n",
              "      <td>2020-05-15-US-MTV-1_Pixel4</td>\n",
              "      <td>1273608786432</td>\n",
              "      <td>37.904611</td>\n",
              "      <td>-86.481078</td>\n",
              "    </tr>\n",
              "    <tr>\n",
              "      <th>2</th>\n",
              "      <td>2020-05-15-US-MTV-1_Pixel4</td>\n",
              "      <td>1273608787432</td>\n",
              "      <td>37.904611</td>\n",
              "      <td>-86.481078</td>\n",
              "    </tr>\n",
              "    <tr>\n",
              "      <th>3</th>\n",
              "      <td>2020-05-15-US-MTV-1_Pixel4</td>\n",
              "      <td>1273608788432</td>\n",
              "      <td>37.904611</td>\n",
              "      <td>-86.481078</td>\n",
              "    </tr>\n",
              "    <tr>\n",
              "      <th>4</th>\n",
              "      <td>2020-05-15-US-MTV-1_Pixel4</td>\n",
              "      <td>1273608789432</td>\n",
              "      <td>37.904611</td>\n",
              "      <td>-86.481078</td>\n",
              "    </tr>\n",
              "    <tr>\n",
              "      <th>...</th>\n",
              "      <td>...</td>\n",
              "      <td>...</td>\n",
              "      <td>...</td>\n",
              "      <td>...</td>\n",
              "    </tr>\n",
              "    <tr>\n",
              "      <th>51685</th>\n",
              "      <td>2021-03-16-US-RWC-2_SamsungS20Ultra</td>\n",
              "      <td>1299971642000</td>\n",
              "      <td>37.904611</td>\n",
              "      <td>-86.481078</td>\n",
              "    </tr>\n",
              "    <tr>\n",
              "      <th>51686</th>\n",
              "      <td>2021-03-16-US-RWC-2_SamsungS20Ultra</td>\n",
              "      <td>1299971643000</td>\n",
              "      <td>37.904611</td>\n",
              "      <td>-86.481078</td>\n",
              "    </tr>\n",
              "    <tr>\n",
              "      <th>51687</th>\n",
              "      <td>2021-03-16-US-RWC-2_SamsungS20Ultra</td>\n",
              "      <td>1299971644000</td>\n",
              "      <td>37.904611</td>\n",
              "      <td>-86.481078</td>\n",
              "    </tr>\n",
              "    <tr>\n",
              "      <th>51688</th>\n",
              "      <td>2021-03-16-US-RWC-2_SamsungS20Ultra</td>\n",
              "      <td>1299971645000</td>\n",
              "      <td>37.904611</td>\n",
              "      <td>-86.481078</td>\n",
              "    </tr>\n",
              "    <tr>\n",
              "      <th>51689</th>\n",
              "      <td>2021-03-16-US-RWC-2_SamsungS20Ultra</td>\n",
              "      <td>1299971646000</td>\n",
              "      <td>37.904611</td>\n",
              "      <td>-86.481078</td>\n",
              "    </tr>\n",
              "  </tbody>\n",
              "</table>\n",
              "<p>51690 rows × 4 columns</p>\n",
              "</div>"
            ],
            "text/plain": [
              "                                     phone  ...     lngDeg\n",
              "0               2020-05-15-US-MTV-1_Pixel4  ... -86.481078\n",
              "1               2020-05-15-US-MTV-1_Pixel4  ... -86.481078\n",
              "2               2020-05-15-US-MTV-1_Pixel4  ... -86.481078\n",
              "3               2020-05-15-US-MTV-1_Pixel4  ... -86.481078\n",
              "4               2020-05-15-US-MTV-1_Pixel4  ... -86.481078\n",
              "...                                    ...  ...        ...\n",
              "51685  2021-03-16-US-RWC-2_SamsungS20Ultra  ... -86.481078\n",
              "51686  2021-03-16-US-RWC-2_SamsungS20Ultra  ... -86.481078\n",
              "51687  2021-03-16-US-RWC-2_SamsungS20Ultra  ... -86.481078\n",
              "51688  2021-03-16-US-RWC-2_SamsungS20Ultra  ... -86.481078\n",
              "51689  2021-03-16-US-RWC-2_SamsungS20Ultra  ... -86.481078\n",
              "\n",
              "[51690 rows x 4 columns]"
            ]
          },
          "metadata": {
            "tags": []
          },
          "execution_count": 8
        }
      ]
    },
    {
      "cell_type": "markdown",
      "metadata": {
        "id": "_EFioNTvOFLB"
      },
      "source": [
        "*Check the code for any missing information*"
      ]
    },
    {
      "cell_type": "code",
      "metadata": {
        "colab": {
          "base_uri": "https://localhost:8080/"
        },
        "id": "XstrDKTPOKzK",
        "outputId": "2ea50ff4-07b4-412e-b7b7-5ec7eff5dee5"
      },
      "source": [
        "trainfile.isnull().any()"
      ],
      "execution_count": null,
      "outputs": [
        {
          "output_type": "execute_result",
          "data": {
            "text/plain": [
              "collectionName                False\n",
              "phoneName                     False\n",
              "millisSinceGpsEpoch           False\n",
              "latDeg                        False\n",
              "lngDeg                        False\n",
              "heightAboveWgs84EllipsoidM    False\n",
              "phone                         False\n",
              "dtype: bool"
            ]
          },
          "metadata": {
            "tags": []
          },
          "execution_count": 17
        }
      ]
    },
    {
      "cell_type": "markdown",
      "metadata": {
        "id": "PVHl3joZNGLR"
      },
      "source": [
        "*Now that we see there is no missing data, we move on to establishing the path to get the ground truth data from. We use the .rglob method to get all ground truth datafiles, and store them in a list.*"
      ]
    },
    {
      "cell_type": "code",
      "metadata": {
        "id": "iQOb0Aaq-HwI",
        "colab": {
          "base_uri": "https://localhost:8080/"
        },
        "outputId": "fbbf0ab5-fdd5-4e2c-9e36-fed14b0ac5f9"
      },
      "source": [
        "truth_path = Path(\"/content/sample3\")\n",
        "data_truth = (truth_path).rglob('ground_truth.csv')\n",
        "\n",
        "data_truth\n",
        "\n"
      ],
      "execution_count": null,
      "outputs": [
        {
          "output_type": "execute_result",
          "data": {
            "text/plain": [
              "<generator object Path.rglob at 0x7f968c8f09d0>"
            ]
          },
          "metadata": {
            "tags": []
          },
          "execution_count": 9
        }
      ]
    },
    {
      "cell_type": "markdown",
      "metadata": {
        "id": "55QvxUegbSW2"
      },
      "source": [
        "# Model 1"
      ]
    },
    {
      "cell_type": "markdown",
      "metadata": {
        "id": "yDYZA9xdNRcs"
      },
      "source": [
        "*Instantiate the column names for the model data*"
      ]
    },
    {
      "cell_type": "code",
      "metadata": {
        "id": "bt8Z63B-2qTA"
      },
      "source": [
        "cols = ['collectionName', 'phoneName', 'millisSinceGpsEpoch', 'latDeg',\n",
        "       'lngDeg']"
      ],
      "execution_count": null,
      "outputs": []
    },
    {
      "cell_type": "markdown",
      "metadata": {
        "id": "YVi24xSyNcJy"
      },
      "source": [
        "*Create a truth list containting all of the ground truth files in the training data, which will be populated by going through the truths list and creating datafiles from all of the ground truth csv files*"
      ]
    },
    {
      "cell_type": "code",
      "metadata": {
        "colab": {
          "base_uri": "https://localhost:8080/"
        },
        "id": "3aC5agBdtEhZ",
        "outputId": "e10ef351-c7e0-4362-9067-1fe7eb033066"
      },
      "source": [
        "truths = []\n",
        "\n",
        "for filepath in data_truth:\n",
        "    f = pd.read_csv(filepath, usecols=cols)\n",
        "    truths.append(f)\n",
        "truths"
      ],
      "execution_count": null,
      "outputs": [
        {
          "output_type": "execute_result",
          "data": {
            "text/plain": [
              "[           collectionName phoneName  millisSinceGpsEpoch     latDeg      lngDeg\n",
              " 0     2020-05-14-US-MTV-1    Pixel4        1273529463442  37.423576 -122.094132\n",
              " 1     2020-05-14-US-MTV-1    Pixel4        1273529464442  37.423576 -122.094132\n",
              " 2     2020-05-14-US-MTV-1    Pixel4        1273529465442  37.423576 -122.094132\n",
              " 3     2020-05-14-US-MTV-1    Pixel4        1273529466442  37.423576 -122.094132\n",
              " 4     2020-05-14-US-MTV-1    Pixel4        1273529467442  37.423576 -122.094132\n",
              " ...                   ...       ...                  ...        ...         ...\n",
              " 1735  2020-05-14-US-MTV-1    Pixel4        1273531198442  37.645823 -122.405608\n",
              " 1736  2020-05-14-US-MTV-1    Pixel4        1273531199442  37.645823 -122.405608\n",
              " 1737  2020-05-14-US-MTV-1    Pixel4        1273531200442  37.645823 -122.405608\n",
              " 1738  2020-05-14-US-MTV-1    Pixel4        1273531201442  37.645823 -122.405608\n",
              " 1739  2020-05-14-US-MTV-1    Pixel4        1273531202442  37.645823 -122.405608\n",
              " \n",
              " [1740 rows x 5 columns],\n",
              "            collectionName     phoneName  ...     latDeg      lngDeg\n",
              " 0     2021-04-15-US-MTV-1  Pixel4Modded  ...  37.424351 -122.091984\n",
              " 1     2021-04-15-US-MTV-1  Pixel4Modded  ...  37.424351 -122.091984\n",
              " 2     2021-04-15-US-MTV-1  Pixel4Modded  ...  37.424351 -122.091984\n",
              " 3     2021-04-15-US-MTV-1  Pixel4Modded  ...  37.424351 -122.091984\n",
              " 4     2021-04-15-US-MTV-1  Pixel4Modded  ...  37.424351 -122.091984\n",
              " ...                   ...           ...  ...        ...         ...\n",
              " 1713  2021-04-15-US-MTV-1  Pixel4Modded  ...  37.424373 -122.091969\n",
              " 1714  2021-04-15-US-MTV-1  Pixel4Modded  ...  37.424373 -122.091969\n",
              " 1715  2021-04-15-US-MTV-1  Pixel4Modded  ...  37.424373 -122.091969\n",
              " 1716  2021-04-15-US-MTV-1  Pixel4Modded  ...  37.424373 -122.091969\n",
              " 1717  2021-04-15-US-MTV-1  Pixel4Modded  ...  37.424373 -122.091969\n",
              " \n",
              " [1718 rows x 5 columns],\n",
              "            collectionName       phoneName  ...     latDeg     lngDeg\n",
              " 0     2020-05-14-US-MTV-1  Pixel4XLModded  ...  37.423575 -122.09413\n",
              " 1     2020-05-14-US-MTV-1  Pixel4XLModded  ...  37.423575 -122.09413\n",
              " 2     2020-05-14-US-MTV-1  Pixel4XLModded  ...  37.423575 -122.09413\n",
              " 3     2020-05-14-US-MTV-1  Pixel4XLModded  ...  37.423576 -122.09413\n",
              " 4     2020-05-14-US-MTV-1  Pixel4XLModded  ...  37.423576 -122.09413\n",
              " ...                   ...             ...  ...        ...        ...\n",
              " 1741  2020-05-14-US-MTV-1  Pixel4XLModded  ...  37.645823 -122.40561\n",
              " 1742  2020-05-14-US-MTV-1  Pixel4XLModded  ...  37.645823 -122.40561\n",
              " 1743  2020-05-14-US-MTV-1  Pixel4XLModded  ...  37.645823 -122.40561\n",
              " 1744  2020-05-14-US-MTV-1  Pixel4XLModded  ...  37.645823 -122.40561\n",
              " 1745  2020-05-14-US-MTV-1  Pixel4XLModded  ...  37.645823 -122.40561\n",
              " \n",
              " [1746 rows x 5 columns],\n",
              "            collectionName phoneName  millisSinceGpsEpoch     latDeg     lngDeg\n",
              " 0     2020-08-06-US-MTV-2       Mi8        1280789552000  37.525215 -122.35334\n",
              " 1     2020-08-06-US-MTV-2       Mi8        1280789553000  37.525215 -122.35334\n",
              " 2     2020-08-06-US-MTV-2       Mi8        1280789554000  37.525215 -122.35334\n",
              " 3     2020-08-06-US-MTV-2       Mi8        1280789555000  37.525215 -122.35334\n",
              " 4     2020-08-06-US-MTV-2       Mi8        1280789556000  37.525215 -122.35334\n",
              " ...                   ...       ...                  ...        ...        ...\n",
              " 1739  2020-08-06-US-MTV-2       Mi8        1280791291000  37.427345 -122.06991\n",
              " 1740  2020-08-06-US-MTV-2       Mi8        1280791292000  37.427345 -122.06991\n",
              " 1741  2020-08-06-US-MTV-2       Mi8        1280791293000  37.427345 -122.06991\n",
              " 1742  2020-08-06-US-MTV-2       Mi8        1280791294000  37.427345 -122.06991\n",
              " 1743  2020-08-06-US-MTV-2       Mi8        1280791295000  37.427345 -122.06991\n",
              " \n",
              " [1744 rows x 5 columns],\n",
              "            collectionName phoneName  millisSinceGpsEpoch     latDeg      lngDeg\n",
              " 0     2020-08-06-US-MTV-2  Pixel4XL        1280789548433  37.525216 -122.353338\n",
              " 1     2020-08-06-US-MTV-2  Pixel4XL        1280789549433  37.525216 -122.353338\n",
              " 2     2020-08-06-US-MTV-2  Pixel4XL        1280789550433  37.525216 -122.353338\n",
              " 3     2020-08-06-US-MTV-2  Pixel4XL        1280789551433  37.525216 -122.353338\n",
              " 4     2020-08-06-US-MTV-2  Pixel4XL        1280789552433  37.525216 -122.353338\n",
              " ...                   ...       ...                  ...        ...         ...\n",
              " 1743  2020-08-06-US-MTV-2  Pixel4XL        1280791291433  37.427345 -122.069913\n",
              " 1744  2020-08-06-US-MTV-2  Pixel4XL        1280791292433  37.427345 -122.069913\n",
              " 1745  2020-08-06-US-MTV-2  Pixel4XL        1280791293433  37.427345 -122.069913\n",
              " 1746  2020-08-06-US-MTV-2  Pixel4XL        1280791294433  37.427345 -122.069913\n",
              " 1747  2020-08-06-US-MTV-2  Pixel4XL        1280791295433  37.427345 -122.069913\n",
              " \n",
              " [1748 rows x 5 columns]]"
            ]
          },
          "metadata": {
            "tags": []
          },
          "execution_count": 11
        }
      ]
    },
    {
      "cell_type": "markdown",
      "metadata": {
        "id": "wm0caAUtXBma"
      },
      "source": [
        "*Now that we have our truths, we concatenate the data to the truth dataframe*"
      ]
    },
    {
      "cell_type": "code",
      "metadata": {
        "id": "llDfDikdtNQR",
        "colab": {
          "base_uri": "https://localhost:8080/",
          "height": 417
        },
        "outputId": "de2c9c63-9652-4246-92f5-0fe62488e379"
      },
      "source": [
        "truth_data = pd.concat(truths, ignore_index=True)\n",
        "truth_data"
      ],
      "execution_count": null,
      "outputs": [
        {
          "output_type": "execute_result",
          "data": {
            "text/html": [
              "<div>\n",
              "<style scoped>\n",
              "    .dataframe tbody tr th:only-of-type {\n",
              "        vertical-align: middle;\n",
              "    }\n",
              "\n",
              "    .dataframe tbody tr th {\n",
              "        vertical-align: top;\n",
              "    }\n",
              "\n",
              "    .dataframe thead th {\n",
              "        text-align: right;\n",
              "    }\n",
              "</style>\n",
              "<table border=\"1\" class=\"dataframe\">\n",
              "  <thead>\n",
              "    <tr style=\"text-align: right;\">\n",
              "      <th></th>\n",
              "      <th>collectionName</th>\n",
              "      <th>phoneName</th>\n",
              "      <th>millisSinceGpsEpoch</th>\n",
              "      <th>latDeg</th>\n",
              "      <th>lngDeg</th>\n",
              "    </tr>\n",
              "  </thead>\n",
              "  <tbody>\n",
              "    <tr>\n",
              "      <th>0</th>\n",
              "      <td>2020-05-14-US-MTV-1</td>\n",
              "      <td>Pixel4</td>\n",
              "      <td>1273529463442</td>\n",
              "      <td>37.423576</td>\n",
              "      <td>-122.094132</td>\n",
              "    </tr>\n",
              "    <tr>\n",
              "      <th>1</th>\n",
              "      <td>2020-05-14-US-MTV-1</td>\n",
              "      <td>Pixel4</td>\n",
              "      <td>1273529464442</td>\n",
              "      <td>37.423576</td>\n",
              "      <td>-122.094132</td>\n",
              "    </tr>\n",
              "    <tr>\n",
              "      <th>2</th>\n",
              "      <td>2020-05-14-US-MTV-1</td>\n",
              "      <td>Pixel4</td>\n",
              "      <td>1273529465442</td>\n",
              "      <td>37.423576</td>\n",
              "      <td>-122.094132</td>\n",
              "    </tr>\n",
              "    <tr>\n",
              "      <th>3</th>\n",
              "      <td>2020-05-14-US-MTV-1</td>\n",
              "      <td>Pixel4</td>\n",
              "      <td>1273529466442</td>\n",
              "      <td>37.423576</td>\n",
              "      <td>-122.094132</td>\n",
              "    </tr>\n",
              "    <tr>\n",
              "      <th>4</th>\n",
              "      <td>2020-05-14-US-MTV-1</td>\n",
              "      <td>Pixel4</td>\n",
              "      <td>1273529467442</td>\n",
              "      <td>37.423576</td>\n",
              "      <td>-122.094132</td>\n",
              "    </tr>\n",
              "    <tr>\n",
              "      <th>...</th>\n",
              "      <td>...</td>\n",
              "      <td>...</td>\n",
              "      <td>...</td>\n",
              "      <td>...</td>\n",
              "      <td>...</td>\n",
              "    </tr>\n",
              "    <tr>\n",
              "      <th>8691</th>\n",
              "      <td>2020-08-06-US-MTV-2</td>\n",
              "      <td>Pixel4XL</td>\n",
              "      <td>1280791291433</td>\n",
              "      <td>37.427345</td>\n",
              "      <td>-122.069913</td>\n",
              "    </tr>\n",
              "    <tr>\n",
              "      <th>8692</th>\n",
              "      <td>2020-08-06-US-MTV-2</td>\n",
              "      <td>Pixel4XL</td>\n",
              "      <td>1280791292433</td>\n",
              "      <td>37.427345</td>\n",
              "      <td>-122.069913</td>\n",
              "    </tr>\n",
              "    <tr>\n",
              "      <th>8693</th>\n",
              "      <td>2020-08-06-US-MTV-2</td>\n",
              "      <td>Pixel4XL</td>\n",
              "      <td>1280791293433</td>\n",
              "      <td>37.427345</td>\n",
              "      <td>-122.069913</td>\n",
              "    </tr>\n",
              "    <tr>\n",
              "      <th>8694</th>\n",
              "      <td>2020-08-06-US-MTV-2</td>\n",
              "      <td>Pixel4XL</td>\n",
              "      <td>1280791294433</td>\n",
              "      <td>37.427345</td>\n",
              "      <td>-122.069913</td>\n",
              "    </tr>\n",
              "    <tr>\n",
              "      <th>8695</th>\n",
              "      <td>2020-08-06-US-MTV-2</td>\n",
              "      <td>Pixel4XL</td>\n",
              "      <td>1280791295433</td>\n",
              "      <td>37.427345</td>\n",
              "      <td>-122.069913</td>\n",
              "    </tr>\n",
              "  </tbody>\n",
              "</table>\n",
              "<p>8696 rows × 5 columns</p>\n",
              "</div>"
            ],
            "text/plain": [
              "           collectionName phoneName  millisSinceGpsEpoch     latDeg      lngDeg\n",
              "0     2020-05-14-US-MTV-1    Pixel4        1273529463442  37.423576 -122.094132\n",
              "1     2020-05-14-US-MTV-1    Pixel4        1273529464442  37.423576 -122.094132\n",
              "2     2020-05-14-US-MTV-1    Pixel4        1273529465442  37.423576 -122.094132\n",
              "3     2020-05-14-US-MTV-1    Pixel4        1273529466442  37.423576 -122.094132\n",
              "4     2020-05-14-US-MTV-1    Pixel4        1273529467442  37.423576 -122.094132\n",
              "...                   ...       ...                  ...        ...         ...\n",
              "8691  2020-08-06-US-MTV-2  Pixel4XL        1280791291433  37.427345 -122.069913\n",
              "8692  2020-08-06-US-MTV-2  Pixel4XL        1280791292433  37.427345 -122.069913\n",
              "8693  2020-08-06-US-MTV-2  Pixel4XL        1280791293433  37.427345 -122.069913\n",
              "8694  2020-08-06-US-MTV-2  Pixel4XL        1280791294433  37.427345 -122.069913\n",
              "8695  2020-08-06-US-MTV-2  Pixel4XL        1280791295433  37.427345 -122.069913\n",
              "\n",
              "[8696 rows x 5 columns]"
            ]
          },
          "metadata": {
            "tags": []
          },
          "execution_count": 12
        }
      ]
    },
    {
      "cell_type": "markdown",
      "metadata": {
        "id": "wzSbkuouBYes"
      },
      "source": [
        "*Using the necessary column data, we create a dataframe that contains relevant information in the trainfile*"
      ]
    },
    {
      "cell_type": "code",
      "metadata": {
        "id": "C1vFqD7L9ZgS",
        "colab": {
          "base_uri": "https://localhost:8080/",
          "height": 417
        },
        "outputId": "587f94eb-e5fe-4be6-9048-92ba58e6f7d9"
      },
      "source": [
        "train = trainfile[cols]\n",
        "train"
      ],
      "execution_count": null,
      "outputs": [
        {
          "output_type": "execute_result",
          "data": {
            "text/html": [
              "<div>\n",
              "<style scoped>\n",
              "    .dataframe tbody tr th:only-of-type {\n",
              "        vertical-align: middle;\n",
              "    }\n",
              "\n",
              "    .dataframe tbody tr th {\n",
              "        vertical-align: top;\n",
              "    }\n",
              "\n",
              "    .dataframe thead th {\n",
              "        text-align: right;\n",
              "    }\n",
              "</style>\n",
              "<table border=\"1\" class=\"dataframe\">\n",
              "  <thead>\n",
              "    <tr style=\"text-align: right;\">\n",
              "      <th></th>\n",
              "      <th>collectionName</th>\n",
              "      <th>phoneName</th>\n",
              "      <th>millisSinceGpsEpoch</th>\n",
              "      <th>latDeg</th>\n",
              "      <th>lngDeg</th>\n",
              "    </tr>\n",
              "  </thead>\n",
              "  <tbody>\n",
              "    <tr>\n",
              "      <th>0</th>\n",
              "      <td>2020-05-14-US-MTV-1</td>\n",
              "      <td>Pixel4</td>\n",
              "      <td>1273529463442</td>\n",
              "      <td>37.423575</td>\n",
              "      <td>-122.094091</td>\n",
              "    </tr>\n",
              "    <tr>\n",
              "      <th>1</th>\n",
              "      <td>2020-05-14-US-MTV-1</td>\n",
              "      <td>Pixel4</td>\n",
              "      <td>1273529464442</td>\n",
              "      <td>37.423578</td>\n",
              "      <td>-122.094101</td>\n",
              "    </tr>\n",
              "    <tr>\n",
              "      <th>2</th>\n",
              "      <td>2020-05-14-US-MTV-1</td>\n",
              "      <td>Pixel4</td>\n",
              "      <td>1273529465442</td>\n",
              "      <td>37.423573</td>\n",
              "      <td>-122.094111</td>\n",
              "    </tr>\n",
              "    <tr>\n",
              "      <th>3</th>\n",
              "      <td>2020-05-14-US-MTV-1</td>\n",
              "      <td>Pixel4</td>\n",
              "      <td>1273529466442</td>\n",
              "      <td>37.423583</td>\n",
              "      <td>-122.094121</td>\n",
              "    </tr>\n",
              "    <tr>\n",
              "      <th>4</th>\n",
              "      <td>2020-05-14-US-MTV-1</td>\n",
              "      <td>Pixel4</td>\n",
              "      <td>1273529467442</td>\n",
              "      <td>37.423579</td>\n",
              "      <td>-122.094114</td>\n",
              "    </tr>\n",
              "    <tr>\n",
              "      <th>...</th>\n",
              "      <td>...</td>\n",
              "      <td>...</td>\n",
              "      <td>...</td>\n",
              "      <td>...</td>\n",
              "      <td>...</td>\n",
              "    </tr>\n",
              "    <tr>\n",
              "      <th>131337</th>\n",
              "      <td>2021-04-29-US-SJC-2</td>\n",
              "      <td>SamsungS20Ultra</td>\n",
              "      <td>1303760315000</td>\n",
              "      <td>37.334460</td>\n",
              "      <td>-121.899600</td>\n",
              "    </tr>\n",
              "    <tr>\n",
              "      <th>131338</th>\n",
              "      <td>2021-04-29-US-SJC-2</td>\n",
              "      <td>SamsungS20Ultra</td>\n",
              "      <td>1303760316000</td>\n",
              "      <td>37.334472</td>\n",
              "      <td>-121.899583</td>\n",
              "    </tr>\n",
              "    <tr>\n",
              "      <th>131339</th>\n",
              "      <td>2021-04-29-US-SJC-2</td>\n",
              "      <td>SamsungS20Ultra</td>\n",
              "      <td>1303760317000</td>\n",
              "      <td>37.334491</td>\n",
              "      <td>-121.899597</td>\n",
              "    </tr>\n",
              "    <tr>\n",
              "      <th>131340</th>\n",
              "      <td>2021-04-29-US-SJC-2</td>\n",
              "      <td>SamsungS20Ultra</td>\n",
              "      <td>1303760318000</td>\n",
              "      <td>37.334495</td>\n",
              "      <td>-121.899583</td>\n",
              "    </tr>\n",
              "    <tr>\n",
              "      <th>131341</th>\n",
              "      <td>2021-04-29-US-SJC-2</td>\n",
              "      <td>SamsungS20Ultra</td>\n",
              "      <td>1303760319000</td>\n",
              "      <td>37.334485</td>\n",
              "      <td>-121.899570</td>\n",
              "    </tr>\n",
              "  </tbody>\n",
              "</table>\n",
              "<p>131342 rows × 5 columns</p>\n",
              "</div>"
            ],
            "text/plain": [
              "             collectionName        phoneName  ...     latDeg      lngDeg\n",
              "0       2020-05-14-US-MTV-1           Pixel4  ...  37.423575 -122.094091\n",
              "1       2020-05-14-US-MTV-1           Pixel4  ...  37.423578 -122.094101\n",
              "2       2020-05-14-US-MTV-1           Pixel4  ...  37.423573 -122.094111\n",
              "3       2020-05-14-US-MTV-1           Pixel4  ...  37.423583 -122.094121\n",
              "4       2020-05-14-US-MTV-1           Pixel4  ...  37.423579 -122.094114\n",
              "...                     ...              ...  ...        ...         ...\n",
              "131337  2021-04-29-US-SJC-2  SamsungS20Ultra  ...  37.334460 -121.899600\n",
              "131338  2021-04-29-US-SJC-2  SamsungS20Ultra  ...  37.334472 -121.899583\n",
              "131339  2021-04-29-US-SJC-2  SamsungS20Ultra  ...  37.334491 -121.899597\n",
              "131340  2021-04-29-US-SJC-2  SamsungS20Ultra  ...  37.334495 -121.899583\n",
              "131341  2021-04-29-US-SJC-2  SamsungS20Ultra  ...  37.334485 -121.899570\n",
              "\n",
              "[131342 rows x 5 columns]"
            ]
          },
          "metadata": {
            "tags": []
          },
          "execution_count": 13
        }
      ]
    },
    {
      "cell_type": "markdown",
      "metadata": {
        "id": "yQNpzWRCtekQ"
      },
      "source": [
        "*Merge the data up to the third column*"
      ]
    },
    {
      "cell_type": "code",
      "metadata": {
        "id": "jWP0szba-NmX"
      },
      "source": [
        "train = train.merge(truth_data, on=cols[:3], suffixes=(\"_current\",\"_truth\"))"
      ],
      "execution_count": null,
      "outputs": []
    },
    {
      "cell_type": "markdown",
      "metadata": {
        "id": "d8N-cKhTtn7P"
      },
      "source": [
        "*Create a copy of the test file*"
      ]
    },
    {
      "cell_type": "code",
      "metadata": {
        "id": "xlaf9Ql4-YdZ",
        "colab": {
          "base_uri": "https://localhost:8080/",
          "height": 162
        },
        "outputId": "da030d93-ee4e-4ab2-e314-94d50b73bfb5"
      },
      "source": [
        "test = testfile.copy()"
      ],
      "execution_count": null,
      "outputs": [
        {
          "output_type": "error",
          "ename": "NameError",
          "evalue": "ignored",
          "traceback": [
            "\u001b[0;31m---------------------------------------------------------------------------\u001b[0m",
            "\u001b[0;31mNameError\u001b[0m                                 Traceback (most recent call last)",
            "\u001b[0;32m<ipython-input-15-263b96d7f3fb>\u001b[0m in \u001b[0;36m<module>\u001b[0;34m()\u001b[0m\n\u001b[0;32m----> 1\u001b[0;31m \u001b[0mtest\u001b[0m \u001b[0;34m=\u001b[0m \u001b[0mtestfile\u001b[0m\u001b[0;34m.\u001b[0m\u001b[0mcopy\u001b[0m\u001b[0;34m(\u001b[0m\u001b[0;34m)\u001b[0m\u001b[0;34m\u001b[0m\u001b[0;34m\u001b[0m\u001b[0m\n\u001b[0m",
            "\u001b[0;31mNameError\u001b[0m: name 'testfile' is not defined"
          ]
        }
      ]
    },
    {
      "cell_type": "markdown",
      "metadata": {
        "id": "amcxGjpRt0QB"
      },
      "source": [
        "*Get the unique names from the train and test data for the collection name and phone name columns*"
      ]
    },
    {
      "cell_type": "code",
      "metadata": {
        "id": "vQ9r3vnD-c3c",
        "colab": {
          "base_uri": "https://localhost:8080/"
        },
        "outputId": "241c91eb-8682-41a5-ffdd-29ee3894c4f6"
      },
      "source": [
        "print(\"############### collectionName unique values ##############################\")\n",
        "print(\"train: {}\".format(train.collectionName.nunique()))\n",
        "print(train.collectionName.unique())\n",
        "print(\"----------------------------------------------\")\n",
        "print(\"test: {}\".format(test.collectionName.nunique()))\n",
        "print(test.collectionName.unique())\n",
        "print(\"----------------------------------------------\")\n",
        "\n",
        "print(\"\\n\")\n",
        "\n",
        "print(\"############### phoneName unique values ##############################\")\n",
        "print(\"train: {}\".format(train.phoneName.nunique()))\n",
        "print(train.phoneName.unique())\n",
        "print(\"----------------------------------------------\")\n",
        "print(\"test: {}\".format(test.phoneName.nunique()))\n",
        "print(test.phoneName.unique())\n",
        "print(\"----------------------------------------------\")"
      ],
      "execution_count": null,
      "outputs": [
        {
          "output_type": "stream",
          "text": [
            "############### collectionName unique values ##############################\n",
            "train: 3\n",
            "['2020-05-14-US-MTV-1' '2020-08-06-US-MTV-2' '2021-04-15-US-MTV-1']\n",
            "----------------------------------------------\n",
            "test: 19\n",
            "['2020-05-15-US-MTV-1' '2020-05-28-US-MTV-1' '2020-05-28-US-MTV-2'\n",
            " '2020-06-04-US-MTV-2' '2020-06-10-US-MTV-1' '2020-06-10-US-MTV-2'\n",
            " '2020-08-03-US-MTV-2' '2020-08-13-US-MTV-1' '2021-03-16-US-MTV-2'\n",
            " '2021-03-16-US-RWC-2' '2021-03-25-US-PAO-1' '2021-04-02-US-SJC-1'\n",
            " '2021-04-08-US-MTV-1' '2021-04-21-US-MTV-1' '2021-04-22-US-SJC-2'\n",
            " '2021-04-26-US-SVL-2' '2021-04-28-US-MTV-2' '2021-04-29-US-MTV-2'\n",
            " '2021-04-29-US-SJC-3']\n",
            "----------------------------------------------\n",
            "\n",
            "\n",
            "############### phoneName unique values ##############################\n",
            "train: 5\n",
            "['Pixel4' 'Pixel4XLModded' 'Mi8' 'Pixel4XL' 'Pixel4Modded']\n",
            "----------------------------------------------\n",
            "test: 7\n",
            "['Pixel4' 'Pixel4XL' 'Pixel4XLModded' 'Mi8' 'Pixel4Modded'\n",
            " 'SamsungS20Ultra' 'Pixel5']\n",
            "----------------------------------------------\n"
          ],
          "name": "stdout"
        }
      ]
    },
    {
      "cell_type": "markdown",
      "metadata": {
        "id": "W98wd3TBt-hf"
      },
      "source": [
        "*Use the get dummies method to create dummy data, and assign it to the train and test phone variables*"
      ]
    },
    {
      "cell_type": "code",
      "metadata": {
        "id": "N351tb3f-c0e"
      },
      "source": [
        "train_phone = pd.get_dummies(train.loc[:,\"phoneName\"])\n",
        "test_phone = pd.get_dummies(test.loc[:,\"phoneName\"])"
      ],
      "execution_count": null,
      "outputs": []
    },
    {
      "cell_type": "markdown",
      "metadata": {
        "id": "75rkYZ300x_J"
      },
      "source": [
        "*Check the shape of the test phone and train phone data files*"
      ]
    },
    {
      "cell_type": "code",
      "metadata": {
        "id": "bm9ECwWC-01q",
        "colab": {
          "base_uri": "https://localhost:8080/"
        },
        "outputId": "93ba76af-9a9c-4ce2-8665-de837acb7205"
      },
      "source": [
        "print(\"train_phone shape:{}\".format(train_phone.shape))\n",
        "print(\"test_phone shape:{}\".format(test_phone.shape))"
      ],
      "execution_count": null,
      "outputs": [
        {
          "output_type": "stream",
          "text": [
            "train_phone shape:(8696, 5)\n",
            "test_phone shape:(91486, 7)\n"
          ],
          "name": "stdout"
        }
      ]
    },
    {
      "cell_type": "markdown",
      "metadata": {
        "id": "DKr8JlhRueaA"
      },
      "source": [
        "*take the data from train phone, align it to be the same format with the columns of the test phone dataframe, and have that data saved to the train_phone1 and test_phone1 dataframes*"
      ]
    },
    {
      "cell_type": "code",
      "metadata": {
        "id": "VOe6C7ET-7r3",
        "colab": {
          "base_uri": "https://localhost:8080/"
        },
        "outputId": "36771a7f-e543-4813-ad55-48414572df15"
      },
      "source": [
        "train_phone1, test_phone1 = train_phone.align(test_phone, join=\"outer\",axis=1, fill_value=0)\n",
        "print(\"Updated train shape {}\".format(train_phone.shape))\n",
        "print(\"Updated test shape {}\".format(test_phone.shape))"
      ],
      "execution_count": null,
      "outputs": [
        {
          "output_type": "stream",
          "text": [
            "Updated train shape (8696, 5)\n",
            "Updated test shape (91486, 7)\n"
          ],
          "name": "stdout"
        }
      ]
    },
    {
      "cell_type": "markdown",
      "metadata": {
        "id": "KbdwWywRu8q-"
      },
      "source": [
        "*concatenate the training and testing data from the train_phone1 and test_phone1 datafiles*"
      ]
    },
    {
      "cell_type": "code",
      "metadata": {
        "id": "A8ri1BIK_EIM"
      },
      "source": [
        "train1 = pd.concat([train.iloc[:,3:], train_phone1], axis=1, ignore_index=False)\n",
        "test1 = pd.concat([test.iloc[:,3:5], test_phone1], axis=1, ignore_index=False)"
      ],
      "execution_count": null,
      "outputs": []
    },
    {
      "cell_type": "markdown",
      "metadata": {
        "id": "s0pqln5AvSxJ"
      },
      "source": [
        "*Check the shape of the train1 and test1 datafiles while previewing the train1 and test1 columns*"
      ]
    },
    {
      "cell_type": "code",
      "metadata": {
        "id": "1WaJF0nm_MlN",
        "colab": {
          "base_uri": "https://localhost:8080/"
        },
        "outputId": "48688dad-68c8-4a5d-8940-8100d97a3bd3"
      },
      "source": [
        "print(\"train1_shape:\",train1.shape)\n",
        "train1.columns\n",
        "print(\"test1-shape:\",test1.shape)\n",
        "test1.columns"
      ],
      "execution_count": null,
      "outputs": [
        {
          "output_type": "stream",
          "text": [
            "train1_shape: (8696, 11)\n",
            "test1-shape: (91486, 9)\n"
          ],
          "name": "stdout"
        },
        {
          "output_type": "execute_result",
          "data": {
            "text/plain": [
              "Index(['latDeg', 'lngDeg', 'Mi8', 'Pixel4', 'Pixel4Modded', 'Pixel4XL',\n",
              "       'Pixel4XLModded', 'Pixel5', 'SamsungS20Ultra'],\n",
              "      dtype='object')"
            ]
          },
          "metadata": {
            "tags": []
          },
          "execution_count": 43
        }
      ]
    },
    {
      "cell_type": "markdown",
      "metadata": {
        "id": "JKjY4i2lvbzf"
      },
      "source": [
        "*Plot the figure that shows our current data vs the predicted data*"
      ]
    },
    {
      "cell_type": "code",
      "metadata": {
        "id": "wkGyBgP0_V0l",
        "colab": {
          "base_uri": "https://localhost:8080/",
          "height": 367
        },
        "outputId": "a5e92b0e-8e13-4166-a8db-6aacdd9ae92d"
      },
      "source": [
        "plt.figure(figsize=[10,5])\n",
        "plt.plot(train1[\"latDeg_current\"][50:100],train1[\"lngDeg_current\"][50:150],\"bo\",label=\"current\")\n",
        "plt.plot(train1[\"latDeg_truth\"][50:150],train1[\"lngDeg_truth\"][50:150],\"r*\",label=\"truth\")\n",
        "plt.title(\"current vs truth\", fontweight=\"bold\")\n",
        "plt.xlabel(\"latDeg\")\n",
        "plt.ylabel(\"lngDeg\")\n",
        "plt.legend()"
      ],
      "execution_count": null,
      "outputs": [
        {
          "output_type": "execute_result",
          "data": {
            "text/plain": [
              "<matplotlib.legend.Legend at 0x7ff0c7d7bb90>"
            ]
          },
          "metadata": {
            "tags": []
          },
          "execution_count": 44
        },
        {
          "output_type": "display_data",
          "data": {
            "image/png": "[encoded data removed]",
            "text/plain": [
              "<Figure size 720x360 with 1 Axes>"
            ]
          },
          "metadata": {
            "tags": [],
            "needs_background": "light"
          }
        }
      ]
    },
    {
      "cell_type": "markdown",
      "metadata": {
        "id": "HYbHZNK8vhne"
      },
      "source": [
        "*Plot the figures showing the individual longitudes and latitudes*"
      ]
    },
    {
      "cell_type": "code",
      "metadata": {
        "id": "AgYj1fj7_eB_",
        "colab": {
          "base_uri": "https://localhost:8080/",
          "height": 366
        },
        "outputId": "7fbc3e89-cf64-422f-9cea-9aaa90136e5d"
      },
      "source": [
        "plt.figure(figsize=[15,5])\n",
        "plt.subplot(1,2,1)\n",
        "plt.plot(train1[\"latDeg_current\"][:100],train1[\"latDeg_truth\"][:100],\"bo\")\n",
        "plt.title(\"lat (current vs truth)\", fontweight=\"bold\")"
      ],
      "execution_count": null,
      "outputs": [
        {
          "output_type": "execute_result",
          "data": {
            "text/plain": [
              "Text(0.5, 1.0, 'lat (current vs truth)')"
            ]
          },
          "metadata": {
            "tags": []
          },
          "execution_count": 45
        },
        {
          "output_type": "display_data",
          "data": {
            "image/png": "[encoded data removed]",
            "text/plain": [
              "<Figure size 1080x360 with 1 Axes>"
            ]
          },
          "metadata": {
            "tags": [],
            "needs_background": "light"
          }
        }
      ]
    },
    {
      "cell_type": "code",
      "metadata": {
        "id": "0Ih7ef7T_nH9",
        "colab": {
          "base_uri": "https://localhost:8080/",
          "height": 311
        },
        "outputId": "efe8f210-5292-4b77-f2d8-64aecfa7a15d"
      },
      "source": [
        "plt.subplot(1,2,2)\n",
        "plt.plot(train1[\"lngDeg_current\"][:100],train1[\"lngDeg_truth\"][:100],\"bo\")\n",
        "plt.title(\"lng (current vs truth)\", fontweight=\"bold\")"
      ],
      "execution_count": null,
      "outputs": [
        {
          "output_type": "execute_result",
          "data": {
            "text/plain": [
              "Text(0.5, 1.0, 'lng (current vs truth)')"
            ]
          },
          "metadata": {
            "tags": []
          },
          "execution_count": 46
        },
        {
          "output_type": "display_data",
          "data": {
            "image/png": "[encoded data removed]",
            "text/plain": [
              "<Figure size 432x288 with 1 Axes>"
            ]
          },
          "metadata": {
            "tags": [],
            "needs_background": "light"
          }
        }
      ]
    },
    {
      "cell_type": "code",
      "metadata": {
        "id": "uNFjW9H2_t72",
        "colab": {
          "base_uri": "https://localhost:8080/",
          "height": 439
        },
        "outputId": "21c50b71-3826-4c23-9109-a947fd505f38"
      },
      "source": [
        "# for latitude\n",
        "columns1 = list(train1.columns[4:])\n",
        "X1,y1 = train1.loc[:,[train1.columns[0]]+columns1],train1[\"latDeg_truth\"].values\n",
        "  \n",
        "#for longitude\n",
        "columns2 = list(train1.columns[4:])\n",
        "X2,y2 = train1.loc[:,[train1.columns[1]]+columns2],train1[\"lngDeg_truth\"].values\n",
        "train1"
      ],
      "execution_count": null,
      "outputs": [
        {
          "output_type": "execute_result",
          "data": {
            "text/html": [
              "<div>\n",
              "<style scoped>\n",
              "    .dataframe tbody tr th:only-of-type {\n",
              "        vertical-align: middle;\n",
              "    }\n",
              "\n",
              "    .dataframe tbody tr th {\n",
              "        vertical-align: top;\n",
              "    }\n",
              "\n",
              "    .dataframe thead th {\n",
              "        text-align: right;\n",
              "    }\n",
              "</style>\n",
              "<table border=\"1\" class=\"dataframe\">\n",
              "  <thead>\n",
              "    <tr style=\"text-align: right;\">\n",
              "      <th></th>\n",
              "      <th>latDeg_current</th>\n",
              "      <th>lngDeg_current</th>\n",
              "      <th>latDeg_truth</th>\n",
              "      <th>lngDeg_truth</th>\n",
              "      <th>Mi8</th>\n",
              "      <th>Pixel4</th>\n",
              "      <th>Pixel4Modded</th>\n",
              "      <th>Pixel4XL</th>\n",
              "      <th>Pixel4XLModded</th>\n",
              "      <th>Pixel5</th>\n",
              "      <th>SamsungS20Ultra</th>\n",
              "    </tr>\n",
              "  </thead>\n",
              "  <tbody>\n",
              "    <tr>\n",
              "      <th>0</th>\n",
              "      <td>37.423575</td>\n",
              "      <td>-122.094091</td>\n",
              "      <td>37.423576</td>\n",
              "      <td>-122.094132</td>\n",
              "      <td>0</td>\n",
              "      <td>1</td>\n",
              "      <td>0</td>\n",
              "      <td>0</td>\n",
              "      <td>0</td>\n",
              "      <td>0</td>\n",
              "      <td>0</td>\n",
              "    </tr>\n",
              "    <tr>\n",
              "      <th>1</th>\n",
              "      <td>37.423578</td>\n",
              "      <td>-122.094101</td>\n",
              "      <td>37.423576</td>\n",
              "      <td>-122.094132</td>\n",
              "      <td>0</td>\n",
              "      <td>1</td>\n",
              "      <td>0</td>\n",
              "      <td>0</td>\n",
              "      <td>0</td>\n",
              "      <td>0</td>\n",
              "      <td>0</td>\n",
              "    </tr>\n",
              "    <tr>\n",
              "      <th>2</th>\n",
              "      <td>37.423573</td>\n",
              "      <td>-122.094111</td>\n",
              "      <td>37.423576</td>\n",
              "      <td>-122.094132</td>\n",
              "      <td>0</td>\n",
              "      <td>1</td>\n",
              "      <td>0</td>\n",
              "      <td>0</td>\n",
              "      <td>0</td>\n",
              "      <td>0</td>\n",
              "      <td>0</td>\n",
              "    </tr>\n",
              "    <tr>\n",
              "      <th>3</th>\n",
              "      <td>37.423583</td>\n",
              "      <td>-122.094121</td>\n",
              "      <td>37.423576</td>\n",
              "      <td>-122.094132</td>\n",
              "      <td>0</td>\n",
              "      <td>1</td>\n",
              "      <td>0</td>\n",
              "      <td>0</td>\n",
              "      <td>0</td>\n",
              "      <td>0</td>\n",
              "      <td>0</td>\n",
              "    </tr>\n",
              "    <tr>\n",
              "      <th>4</th>\n",
              "      <td>37.423579</td>\n",
              "      <td>-122.094114</td>\n",
              "      <td>37.423576</td>\n",
              "      <td>-122.094132</td>\n",
              "      <td>0</td>\n",
              "      <td>1</td>\n",
              "      <td>0</td>\n",
              "      <td>0</td>\n",
              "      <td>0</td>\n",
              "      <td>0</td>\n",
              "      <td>0</td>\n",
              "    </tr>\n",
              "    <tr>\n",
              "      <th>...</th>\n",
              "      <td>...</td>\n",
              "      <td>...</td>\n",
              "      <td>...</td>\n",
              "      <td>...</td>\n",
              "      <td>...</td>\n",
              "      <td>...</td>\n",
              "      <td>...</td>\n",
              "      <td>...</td>\n",
              "      <td>...</td>\n",
              "      <td>...</td>\n",
              "      <td>...</td>\n",
              "    </tr>\n",
              "    <tr>\n",
              "      <th>8691</th>\n",
              "      <td>37.424363</td>\n",
              "      <td>-122.092011</td>\n",
              "      <td>37.424373</td>\n",
              "      <td>-122.091969</td>\n",
              "      <td>0</td>\n",
              "      <td>0</td>\n",
              "      <td>1</td>\n",
              "      <td>0</td>\n",
              "      <td>0</td>\n",
              "      <td>0</td>\n",
              "      <td>0</td>\n",
              "    </tr>\n",
              "    <tr>\n",
              "      <th>8692</th>\n",
              "      <td>37.424380</td>\n",
              "      <td>-122.092007</td>\n",
              "      <td>37.424373</td>\n",
              "      <td>-122.091969</td>\n",
              "      <td>0</td>\n",
              "      <td>0</td>\n",
              "      <td>1</td>\n",
              "      <td>0</td>\n",
              "      <td>0</td>\n",
              "      <td>0</td>\n",
              "      <td>0</td>\n",
              "    </tr>\n",
              "    <tr>\n",
              "      <th>8693</th>\n",
              "      <td>37.424379</td>\n",
              "      <td>-122.092010</td>\n",
              "      <td>37.424373</td>\n",
              "      <td>-122.091969</td>\n",
              "      <td>0</td>\n",
              "      <td>0</td>\n",
              "      <td>1</td>\n",
              "      <td>0</td>\n",
              "      <td>0</td>\n",
              "      <td>0</td>\n",
              "      <td>0</td>\n",
              "    </tr>\n",
              "    <tr>\n",
              "      <th>8694</th>\n",
              "      <td>37.424369</td>\n",
              "      <td>-122.091993</td>\n",
              "      <td>37.424373</td>\n",
              "      <td>-122.091969</td>\n",
              "      <td>0</td>\n",
              "      <td>0</td>\n",
              "      <td>1</td>\n",
              "      <td>0</td>\n",
              "      <td>0</td>\n",
              "      <td>0</td>\n",
              "      <td>0</td>\n",
              "    </tr>\n",
              "    <tr>\n",
              "      <th>8695</th>\n",
              "      <td>37.424392</td>\n",
              "      <td>-122.092003</td>\n",
              "      <td>37.424373</td>\n",
              "      <td>-122.091969</td>\n",
              "      <td>0</td>\n",
              "      <td>0</td>\n",
              "      <td>1</td>\n",
              "      <td>0</td>\n",
              "      <td>0</td>\n",
              "      <td>0</td>\n",
              "      <td>0</td>\n",
              "    </tr>\n",
              "  </tbody>\n",
              "</table>\n",
              "<p>8696 rows × 11 columns</p>\n",
              "</div>"
            ],
            "text/plain": [
              "      latDeg_current  lngDeg_current  ...  Pixel5  SamsungS20Ultra\n",
              "0          37.423575     -122.094091  ...       0                0\n",
              "1          37.423578     -122.094101  ...       0                0\n",
              "2          37.423573     -122.094111  ...       0                0\n",
              "3          37.423583     -122.094121  ...       0                0\n",
              "4          37.423579     -122.094114  ...       0                0\n",
              "...              ...             ...  ...     ...              ...\n",
              "8691       37.424363     -122.092011  ...       0                0\n",
              "8692       37.424380     -122.092007  ...       0                0\n",
              "8693       37.424379     -122.092010  ...       0                0\n",
              "8694       37.424369     -122.091993  ...       0                0\n",
              "8695       37.424392     -122.092003  ...       0                0\n",
              "\n",
              "[8696 rows x 11 columns]"
            ]
          },
          "metadata": {
            "tags": []
          },
          "execution_count": 47
        }
      ]
    },
    {
      "cell_type": "code",
      "metadata": {
        "id": "DTsx0xrl_1pM"
      },
      "source": [
        "Xt1 = test1.loc[:,[test1.columns[0]]+columns1] #latitude\n",
        "Xt2 = test1.loc[:,[test1.columns[1]]+columns2] #longitude"
      ],
      "execution_count": null,
      "outputs": []
    },
    {
      "cell_type": "code",
      "metadata": {
        "id": "FMDUiiAX_-5L",
        "colab": {
          "base_uri": "https://localhost:8080/"
        },
        "outputId": "a3a10800-9462-49c9-b3ec-ddfe9fca4385"
      },
      "source": [
        "print(\"X1 columns:\", X1.columns.tolist())\n",
        "print(\"Xt1 columns:\", Xt1.columns.tolist())\n",
        "print(\"\\n\")\n",
        "print(\"X2 columns:\", X2.columns.tolist())\n",
        "print(\"Xt2 columns:\", Xt2.columns.tolist())"
      ],
      "execution_count": null,
      "outputs": [
        {
          "output_type": "stream",
          "text": [
            "X1 columns: ['latDeg_current', 'Mi8', 'Pixel4', 'Pixel4Modded', 'Pixel4XL', 'Pixel4XLModded', 'Pixel5', 'SamsungS20Ultra']\n",
            "Xt1 columns: ['latDeg', 'Mi8', 'Pixel4', 'Pixel4Modded', 'Pixel4XL', 'Pixel4XLModded', 'Pixel5', 'SamsungS20Ultra']\n",
            "\n",
            "\n",
            "X2 columns: ['lngDeg_current', 'Mi8', 'Pixel4', 'Pixel4Modded', 'Pixel4XL', 'Pixel4XLModded', 'Pixel5', 'SamsungS20Ultra']\n",
            "Xt2 columns: ['lngDeg', 'Mi8', 'Pixel4', 'Pixel4Modded', 'Pixel4XL', 'Pixel4XLModded', 'Pixel5', 'SamsungS20Ultra']\n"
          ],
          "name": "stdout"
        }
      ]
    },
    {
      "cell_type": "markdown",
      "metadata": {
        "id": "t0CJMaDkwVU_"
      },
      "source": [
        "*Create the train test split with 70% of the data being used for training and 30% of the data being used for testing*"
      ]
    },
    {
      "cell_type": "code",
      "metadata": {
        "id": "tLBwu0mLAJTi",
        "colab": {
          "base_uri": "https://localhost:8080/"
        },
        "outputId": "c84d9f63-1d1e-404c-e412-8b75649b8c63"
      },
      "source": [
        "xtr1,xval1,ytr1,yval1 = train_test_split(X1, y1, test_size=0.3, random_state=10)\n",
        "xtr2,xval2,ytr2,yval2 = train_test_split(X2, y2, test_size=0.3, random_state=10)\n",
        "\n",
        "print(\"xtr1 shape:{}; xval1 shape:{}\".format(xtr1.shape,xval1.shape))\n",
        "print(\"xtr2 shape:{}; xval2 shape:{}\".format(xtr2.shape,xval2.shape))\n"
      ],
      "execution_count": null,
      "outputs": [
        {
          "output_type": "stream",
          "text": [
            "xtr1 shape:(6956, 8); xval1 shape:(1740, 8)\n",
            "xtr2 shape:(6956, 8); xval2 shape:(1740, 8)\n"
          ],
          "name": "stdout"
        }
      ]
    },
    {
      "cell_type": "markdown",
      "metadata": {
        "id": "DjQLgGS_wv8X"
      },
      "source": [
        "*Use the haversine formula to get the difference from truth values and current values*"
      ]
    },
    {
      "cell_type": "code",
      "metadata": {
        "id": "ugFFmoIRAQa-"
      },
      "source": [
        "def lat_lon_dist(df):\n",
        "    \n",
        "    distance_list = []\n",
        "    for i in range(df.shape[0]):\n",
        "        lat1 = df[\"latDeg_truth\"][i]\n",
        "        lon1 = df[\"lngDeg_truth\"][i]\n",
        "        lat2 = df[\"latDeg_pred\"][i]\n",
        "        lon2 = df[\"lngDeg_pred\"][i]\n",
        "        # convert decimal degrees to radians \n",
        "        lon1, lat1, lon2, lat2 = map(radians, [lon1, lat1, lon2, lat2])\n",
        "        # haversine formula \n",
        "        dlon = lon2 - lon1 \n",
        "        dlat = lat2 - lat1 \n",
        "        a = sin(dlat/2)**2 + cos(lat1) * cos(lat2) * sin(dlon/2)**2\n",
        "        c = 2 * asin(sqrt(a)) \n",
        "        # The radius of earth in kilometers is 6371\n",
        "        mdist = 6371* c*1000\n",
        "        distance_list.append(mdist)\n",
        "    \n",
        "    return distance_list"
      ],
      "execution_count": null,
      "outputs": []
    },
    {
      "cell_type": "markdown",
      "metadata": {
        "id": "Z3HmukAOw1T1"
      },
      "source": [
        "*initialize the linear regression model with the training data, and fit the data to the linear regression to make the prediction for longitude and latitude, while checking the score*"
      ]
    },
    {
      "cell_type": "code",
      "metadata": {
        "id": "WMncj5IJAVp1"
      },
      "source": [
        "lr1 = LinearRegression() \n",
        "model_lat = lr1.fit(xtr1,ytr1)\n",
        "pred_yval1 = model_lat.predict(xval1) # prediction for values of data latitude\n"
      ],
      "execution_count": null,
      "outputs": []
    },
    {
      "cell_type": "code",
      "metadata": {
        "colab": {
          "base_uri": "https://localhost:8080/"
        },
        "id": "IGAEOb5kj55c",
        "outputId": "f1d17506-95a4-4729-b4c6-5d6bb9d57d38"
      },
      "source": [
        "print(format(mean_squared_error(yval1,pred_yval1), \".16f\")) #latitude prediction accuracy"
      ],
      "execution_count": null,
      "outputs": [
        {
          "output_type": "stream",
          "text": [
            "0.0000000001755435\n"
          ],
          "name": "stdout"
        }
      ]
    },
    {
      "cell_type": "code",
      "metadata": {
        "id": "vcqGZWDnAcoD"
      },
      "source": [
        "lr2 = LinearRegression()\n",
        "model_lng = lr2.fit(xtr2,ytr2)\n",
        "pred_yval2 = model_lng.predict(xval2) # prediction for values of longitude "
      ],
      "execution_count": null,
      "outputs": []
    },
    {
      "cell_type": "code",
      "metadata": {
        "colab": {
          "base_uri": "https://localhost:8080/"
        },
        "id": "ESOVb-AYxF9X",
        "outputId": "ac296f68-2869-4064-af5d-e190791dd5b3"
      },
      "source": [
        "print(format(mean_squared_error(yval2, pred_yval2), '.16f')) # longitude prediction accuracy"
      ],
      "execution_count": null,
      "outputs": [
        {
          "output_type": "stream",
          "text": [
            "0.0000000002558310\n"
          ],
          "name": "stdout"
        }
      ]
    },
    {
      "cell_type": "code",
      "metadata": {
        "id": "on9_gSxWB9YJ"
      },
      "source": [
        "val_df = pd.concat([xval1[[\"latDeg_current\"]], xval2], ignore_index=False, axis=1).reset_index(drop=[\"index\"])"
      ],
      "execution_count": null,
      "outputs": []
    },
    {
      "cell_type": "markdown",
      "metadata": {
        "id": "y6gnrsZ9yD1M"
      },
      "source": [
        "*Define the truth data and prediction data as columns in the dataframe, then get the distance from the truth data by using the function containing the haversine formula to get the distance differences*"
      ]
    },
    {
      "cell_type": "code",
      "metadata": {
        "id": "WFc1SyYhCCuf"
      },
      "source": [
        "#truths\n",
        "val_df[\"latDeg_truth\"] = yval1\n",
        "val_df[\"lngDeg_truth\"] = yval2\n",
        "\n",
        "#predictions\n",
        "val_df[\"latDeg_pred\"] = pred_yval1\n",
        "val_df[\"lngDeg_pred\"] = pred_yval2\n",
        "val_df[\"dist\"] = lat_lon_dist(val_df)"
      ],
      "execution_count": null,
      "outputs": []
    },
    {
      "cell_type": "markdown",
      "metadata": {
        "id": "kEWNOl_7xta3"
      },
      "source": [
        "*Reverse the one-hot decoding for phoneName*"
      ]
    },
    {
      "cell_type": "code",
      "metadata": {
        "id": "mpi_giP_CHTi"
      },
      "source": [
        "phone = val_df.iloc[:,2:-5].idxmax(axis=1)"
      ],
      "execution_count": null,
      "outputs": []
    },
    {
      "cell_type": "code",
      "metadata": {
        "id": "kWTOSL2aCQRU"
      },
      "source": [
        "val_df1 = pd.concat([val_df.iloc[:,:2],val_df.iloc[:,-3:]], axis=1, ignore_index=False)\n",
        "val_df1[\"phoneName\"] = phone\n",
        "val_df1 = val_df1[val_df1.columns[-1:].tolist()+val_df1.columns[:-1].tolist()]"
      ],
      "execution_count": null,
      "outputs": []
    },
    {
      "cell_type": "markdown",
      "metadata": {
        "id": "okRxfLpoxeSR"
      },
      "source": [
        "*Create the dataframe showing the data for each phone's distance difference*"
      ]
    },
    {
      "cell_type": "code",
      "metadata": {
        "id": "brDL8kGMCQKb",
        "colab": {
          "base_uri": "https://localhost:8080/",
          "height": 204
        },
        "outputId": "87f59396-741b-4adc-9788-40916d8f14d9"
      },
      "source": [
        "val_df2 = pd.DataFrame()\n",
        "val_df2[\"phoneName\"] =  val_df1.phoneName.unique().tolist()\n",
        "val_df2[\"dist_50\"] = [np.percentile(val_df1[val_df1.phoneName==ph][\"dist\"],50) for ph in val_df2[\"phoneName\"].tolist()]\n",
        "val_df2[\"dist_95\"] = [np.percentile(val_df1[val_df1.phoneName==ph][\"dist\"],95) for ph in val_df2[\"phoneName\"].tolist()]\n",
        "val_df2[\"avg_dist_50_95\"] = np.mean(np.array(val_df2.iloc[:,1:]),axis=1)\n",
        "val_df2"
      ],
      "execution_count": null,
      "outputs": [
        {
          "output_type": "execute_result",
          "data": {
            "text/html": [
              "<div>\n",
              "<style scoped>\n",
              "    .dataframe tbody tr th:only-of-type {\n",
              "        vertical-align: middle;\n",
              "    }\n",
              "\n",
              "    .dataframe tbody tr th {\n",
              "        vertical-align: top;\n",
              "    }\n",
              "\n",
              "    .dataframe thead th {\n",
              "        text-align: right;\n",
              "    }\n",
              "</style>\n",
              "<table border=\"1\" class=\"dataframe\">\n",
              "  <thead>\n",
              "    <tr style=\"text-align: right;\">\n",
              "      <th></th>\n",
              "      <th>phoneName</th>\n",
              "      <th>dist_50</th>\n",
              "      <th>dist_95</th>\n",
              "      <th>avg_dist_50_95</th>\n",
              "    </tr>\n",
              "  </thead>\n",
              "  <tbody>\n",
              "    <tr>\n",
              "      <th>0</th>\n",
              "      <td>Pixel4</td>\n",
              "      <td>1.125461</td>\n",
              "      <td>2.860650</td>\n",
              "      <td>1.993056</td>\n",
              "    </tr>\n",
              "    <tr>\n",
              "      <th>1</th>\n",
              "      <td>Pixel4Modded</td>\n",
              "      <td>1.194256</td>\n",
              "      <td>4.229832</td>\n",
              "      <td>2.712044</td>\n",
              "    </tr>\n",
              "    <tr>\n",
              "      <th>2</th>\n",
              "      <td>Pixel4XLModded</td>\n",
              "      <td>1.432765</td>\n",
              "      <td>3.745192</td>\n",
              "      <td>2.588979</td>\n",
              "    </tr>\n",
              "    <tr>\n",
              "      <th>3</th>\n",
              "      <td>Mi8</td>\n",
              "      <td>1.389676</td>\n",
              "      <td>3.568231</td>\n",
              "      <td>2.478953</td>\n",
              "    </tr>\n",
              "    <tr>\n",
              "      <th>4</th>\n",
              "      <td>Pixel4XL</td>\n",
              "      <td>1.140884</td>\n",
              "      <td>2.994377</td>\n",
              "      <td>2.067630</td>\n",
              "    </tr>\n",
              "  </tbody>\n",
              "</table>\n",
              "</div>"
            ],
            "text/plain": [
              "        phoneName   dist_50   dist_95  avg_dist_50_95\n",
              "0          Pixel4  1.125461  2.860650        1.993056\n",
              "1    Pixel4Modded  1.194256  4.229832        2.712044\n",
              "2  Pixel4XLModded  1.432765  3.745192        2.588979\n",
              "3             Mi8  1.389676  3.568231        2.478953\n",
              "4        Pixel4XL  1.140884  2.994377        2.067630"
            ]
          },
          "metadata": {
            "tags": []
          },
          "execution_count": 60
        }
      ]
    },
    {
      "cell_type": "markdown",
      "metadata": {
        "id": "P-Rddg6_byp4"
      },
      "source": [
        "# Model 2"
      ]
    },
    {
      "cell_type": "markdown",
      "metadata": {
        "id": "7JoqczD8xB0p"
      },
      "source": [
        "*In order to decrease the mean squared error, change the hyperparameters of fit intercept and normailze to true in order to reflect the lower mean squared error*"
      ]
    },
    {
      "cell_type": "code",
      "metadata": {
        "id": "7i8KYV7V0k3I"
      },
      "source": [
        "slr1 = LinearRegression(fit_intercept=True, normalize=True) \n",
        "smodel_lat = slr1.fit(xtr1,ytr1)\n",
        "spred_yval1 = smodel_lat.predict(xval1) # prediction for values of data latitude\n"
      ],
      "execution_count": null,
      "outputs": []
    },
    {
      "cell_type": "code",
      "metadata": {
        "colab": {
          "base_uri": "https://localhost:8080/"
        },
        "id": "uOAfTbvt1F1M",
        "outputId": "6998251c-f9c4-4dc7-861b-723e1e92c76a"
      },
      "source": [
        "print(format(mean_squared_error(yval1,spred_yval1), \".16f\")) #latitude prediction accuracy"
      ],
      "execution_count": null,
      "outputs": [
        {
          "output_type": "stream",
          "text": [
            "0.0000000001755424\n"
          ],
          "name": "stdout"
        }
      ]
    },
    {
      "cell_type": "code",
      "metadata": {
        "id": "CucW9H3t0jP7"
      },
      "source": [
        "slr2 = LinearRegression(fit_intercept=True, normalize=True)\n",
        "smodel_lng = slr2.fit(xtr2,ytr2)\n",
        "spred_yval2 = smodel_lng.predict(xval2) # prediction for values of longitude "
      ],
      "execution_count": null,
      "outputs": []
    },
    {
      "cell_type": "code",
      "metadata": {
        "colab": {
          "base_uri": "https://localhost:8080/"
        },
        "id": "tBzs6FkD1XMQ",
        "outputId": "1e3cb01d-05a4-43c4-eba1-f7a8a0c9190c"
      },
      "source": [
        "print(format(mean_squared_error(yval2,spred_yval2), \".16f\")) #longitude prediction accuracy"
      ],
      "execution_count": null,
      "outputs": [
        {
          "output_type": "stream",
          "text": [
            "0.0000000002558310\n"
          ],
          "name": "stdout"
        }
      ]
    }
  ]
}